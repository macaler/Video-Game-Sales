{
 "cells": [
  {
   "cell_type": "markdown",
   "metadata": {},
   "source": [
    "# Notebook Description"
   ]
  },
  {
   "cell_type": "markdown",
   "metadata": {},
   "source": [
    "This project aims to analyze and explore the data found in the vgsales.csv dataset downloaded from https://www.kaggle.com/gregorut/videogamesales. In a different Jupyter notebook, I analyzed historical trends in the video game sales data contained in this dataset; I also looked at various microslices of the data. In this notebook, and in the spirit of \"you can only work with the data you have,\" I explore whether it is possible to predict a video game's genre using only its sales figures and its year of its release. Such an endeavour probably won't result in terribly accurate predictions, but maybe my machine learning models can do better than random. "
   ]
  },
  {
   "cell_type": "markdown",
   "metadata": {},
   "source": [
    "# Import Needed Packages"
   ]
  },
  {
   "cell_type": "code",
   "execution_count": 1,
   "metadata": {},
   "outputs": [],
   "source": [
    "# Import analysis packages:\n",
    "import pandas as pd\n",
    "import numpy as np"
   ]
  },
  {
   "cell_type": "code",
   "execution_count": 2,
   "metadata": {},
   "outputs": [],
   "source": [
    "# Import plotting package:\n",
    "from matplotlib import pyplot as plt"
   ]
  },
  {
   "cell_type": "code",
   "execution_count": 3,
   "metadata": {},
   "outputs": [],
   "source": [
    "# Import data scaling class from Scikit-Learn:\n",
    "from sklearn.preprocessing import StandardScaler\n",
    "\n",
    "# Import training/test set splitting class from Scikit-Learn:\n",
    "from sklearn.model_selection import train_test_split\n",
    "\n",
    "# Import classification classes from Scikit-Learn:\n",
    "from sklearn.neighbors import KNeighborsClassifier\n",
    "from sklearn.svm import SVC\n",
    "from sklearn.tree import DecisionTreeClassifier\n",
    "from sklearn.ensemble import RandomForestClassifier"
   ]
  },
  {
   "cell_type": "markdown",
   "metadata": {},
   "source": [
    "# Read in the Data, Investigate It, Clean It, and Sort It"
   ]
  },
  {
   "cell_type": "code",
   "execution_count": 4,
   "metadata": {},
   "outputs": [],
   "source": [
    "# Read video game sales file from Kaggle to a Pandas DataFrame:\n",
    "vg_sales_data = pd.read_csv('vgsales.csv')"
   ]
  },
  {
   "cell_type": "code",
   "execution_count": 5,
   "metadata": {},
   "outputs": [
    {
     "name": "stdout",
     "output_type": "stream",
     "text": [
      "   Rank                      Name Platform    Year         Genre Publisher  \\\n",
      "0     1                Wii Sports      Wii  2006.0        Sports  Nintendo   \n",
      "1     2         Super Mario Bros.      NES  1985.0      Platform  Nintendo   \n",
      "2     3            Mario Kart Wii      Wii  2008.0        Racing  Nintendo   \n",
      "3     4         Wii Sports Resort      Wii  2009.0        Sports  Nintendo   \n",
      "4     5  Pokemon Red/Pokemon Blue       GB  1996.0  Role-Playing  Nintendo   \n",
      "\n",
      "   NA_Sales  EU_Sales  JP_Sales  Other_Sales  Global_Sales  \n",
      "0     41.49     29.02      3.77         8.46         82.74  \n",
      "1     29.08      3.58      6.81         0.77         40.24  \n",
      "2     15.85     12.88      3.79         3.31         35.82  \n",
      "3     15.75     11.01      3.28         2.96         33.00  \n",
      "4     11.27      8.89     10.22         1.00         31.37  \n"
     ]
    }
   ],
   "source": [
    "# Print out the header of the resulting DataFrame:\n",
    "print(vg_sales_data.head())"
   ]
  },
  {
   "cell_type": "code",
   "execution_count": null,
   "metadata": {},
   "outputs": [],
   "source": [
    "# The file description from Kaggle indicates that sales figures are in \"millions.\"\n",
    "# I will assume that \"millions\" means millions of U.S. dollars."
   ]
  },
  {
   "cell_type": "markdown",
   "metadata": {},
   "source": [
    "# Predicting Game Genre Given Sales Figures and Year of Release"
   ]
  },
  {
   "cell_type": "code",
   "execution_count": 6,
   "metadata": {},
   "outputs": [],
   "source": [
    "# Before attempting to build machine learning models that will predict a game's genre given its sales figures\n",
    "# and year of release, eliminate games for which some or all of the sales data is unavailable; also eliminate\n",
    "# games for which genre and/or year of release is not available:\n",
    "vg_sales_data_cleaned = vg_sales_data.dropna(subset=['Genre','Year', 'Global_Sales', 'NA_Sales', 'EU_Sales', \\\n",
    "                                                     'JP_Sales', 'Other_Sales'])\n",
    "\n",
    "# From the above DataFrame, keep only information about year of release and global, North American, European,\n",
    "# Japanese, and \"Other\" sales figures:\n",
    "raw_vg_sales_data = vg_sales_data_cleaned[['Year','Global_Sales','NA_Sales','EU_Sales','JP_Sales','Other_Sales']]\n",
    "# The \"label,\" i.e. the thing to be predicted, is the game's genre; store this in a separate Series.\n",
    "raw_vg_sales_labels = vg_sales_data_cleaned['Genre']"
   ]
  },
  {
   "cell_type": "code",
   "execution_count": 7,
   "metadata": {},
   "outputs": [],
   "source": [
    "# Split the data in the raw_vg_sales_data DataFrame (as well as their corresponding labels) into training and \n",
    "# test sets. The test set will be set aside to see how well the machine learning model performs after having\n",
    "# been trained on the training set. I am choosing to set aside 15% of the data in the DataFrame\n",
    "# raw_vg_sales_data as the test set, which leaves the remaining 85% of data for the training set.\n",
    "# An arbitrary integer has been chosen as the random state to ensure the same splitting between training\n",
    "# and test set each time the kernel is run.\n",
    "\n",
    "data_train, data_test, labels_train, labels_test = train_test_split(raw_vg_sales_data, raw_vg_sales_labels, \\\n",
    "                                                   train_size = 0.85, test_size = 0.15, random_state = 19)"
   ]
  },
  {
   "cell_type": "code",
   "execution_count": 8,
   "metadata": {},
   "outputs": [],
   "source": [
    "# Since the data are on a variety of different scales, standardize them by removing the average and scaling to\n",
    "# a variance of one. This is done by using the scikit-learn preprocessing class StandardScaler. Further \n",
    "# information about StandardScaler can be found at:\n",
    "# https://scikit-learn.org/stable/modules/generated/sklearn.preprocessing.StandardScaler.html\n",
    "\n",
    "# instantiate a class object:\n",
    "stdscale = StandardScaler()\n",
    "# fit the object to the training data, then standardize it:\n",
    "scaled_data_train = stdscale.fit_transform(data_train)\n",
    "# standardize the test data based on the statistics of the training data:\n",
    "scaled_data_test = stdscale.transform(data_test)"
   ]
  },
  {
   "cell_type": "code",
   "execution_count": 9,
   "metadata": {},
   "outputs": [
    {
     "name": "stdout",
     "output_type": "stream",
     "text": [
      "50 0.2710204081632653\n"
     ]
    }
   ],
   "source": [
    "# Use a k-Nearest Neighbours algorithm to predict game genre given year of release and sales data. The scaled\n",
    "# training data will be passed to the algorithm to train it. Since the optimum value of k (i.e. the number of \n",
    "# nearest neighbours) is not known a priori, choose it based on which value results in the highest accuracy \n",
    "# model. The scaled test data will be used to determine the accuracy of a model.\n",
    "\n",
    "# create an empty array to hold accuracy scores:\n",
    "scores_knn = []\n",
    "\n",
    "# loop over values of k; create a k-nearest neighbours model for each k, train it, and calculate its accuracy sore:\n",
    "for k in range(1,301):\n",
    "    # instantiate a class object with the desired value of k\n",
    "    classifier = KNeighborsClassifier(n_neighbors = k)\n",
    "    # fit the object to the scaled training data:\n",
    "    classifier.fit(scaled_data_train, labels_train)\n",
    "    # calculate the accuracy score based on the scaled test data:\n",
    "    scores_knn.append(classifier.score(scaled_data_test, labels_test))\n",
    "\n",
    "# print out the optimum value of k and what the resultant accuracy score was:\n",
    "print(scores_knn.index(max(scores_knn))+1, max(scores_knn))"
   ]
  },
  {
   "cell_type": "code",
   "execution_count": 10,
   "metadata": {},
   "outputs": [
    {
     "data": {
      "text/plain": [
       "Text(0.5, 1.0, 'Trend of Model Accuracy with Increasing k')"
      ]
     },
     "execution_count": 10,
     "metadata": {},
     "output_type": "execute_result"
    },
    {
     "data": {
      "image/png": "[encoded data removed]",
      "text/plain": [
       "<Figure size 432x288 with 1 Axes>"
      ]
     },
     "metadata": {
      "needs_background": "light"
     },
     "output_type": "display_data"
    }
   ],
   "source": [
    "# plot accuracy score v. k (vertical axis v. horizontal axis nomenclature) to see if accuracy rises and then \n",
    "# falls with increasing k as expected:\n",
    "plt.plot(range(1,301),scores_knn)\n",
    "plt.xlabel(' k [number of nearest neighbours]')\n",
    "plt.ylabel('model accuracy score')\n",
    "plt.title('Trend of Model Accuracy with Increasing k')"
   ]
  },
  {
   "cell_type": "code",
   "execution_count": null,
   "metadata": {},
   "outputs": [],
   "source": [
    "# As expected, accuracy rises with k until some maximum value, then falls with increasing k as the \n",
    "# model becomes underfit."
   ]
  },
  {
   "cell_type": "code",
   "execution_count": 11,
   "metadata": {},
   "outputs": [
    {
     "name": "stdout",
     "output_type": "stream",
     "text": [
      "0.08333333333333333\n"
     ]
    }
   ],
   "source": [
    "# Test to see how the \"best\" k-Nearest Neighbours model compares to random.\n",
    "# If one were to assign a genre to a game at random, what would be the chance of getting it right?\n",
    "\n",
    "print(1.0/len(vg_sales_data.Genre.unique()))\n"
   ]
  },
  {
   "cell_type": "code",
   "execution_count": null,
   "metadata": {},
   "outputs": [],
   "source": [
    "# Thus, the \"best\" k-Nearest Neighbours model for classifying the genres of video games in this data set\n",
    "# based on year of release and sales data outperforms random, but can hardly be said to be a great\n",
    "# predictive algorithm. While getting the genre right 27% of the time is better than getting it right 8%\n",
    "# of the time, you still misclassify a game 73% of the time. That's not great performance.\n",
    "\n",
    "# Perhaps a different classification algorithm will perform better."
   ]
  },
  {
   "cell_type": "code",
   "execution_count": 12,
   "metadata": {},
   "outputs": [],
   "source": [
    "# Use a Support Vector Machine classification algorithm to predict game genre given year of release and sales data. \n",
    "# This machine learning algorithm assumes data which are centered on zero, so it must be passed the scaled training \n",
    "# data. Since neither the optimal C (regularization parameter) nor the optimal gamma is known, treat these as free\n",
    "# parameters and choose the combination which results in the highest accuracy when the trained model is applied to \n",
    "# the scaled test data.\n",
    "\n",
    "# create empty arrays to store model accuracy scores, C values, and gamma values:\n",
    "scores = []\n",
    "gees = []\n",
    "cees = []\n",
    "\n",
    "# loop over possible gamma values:\n",
    "for g in range(1,20):\n",
    "    # loop over possible C values:\n",
    "    for c in range(1,20):\n",
    "        # divide C by 10, to allow for more misclassifications when setting the decision boundary:\n",
    "        c = c / 10.0\n",
    "        # instantiate a class object:\n",
    "        classes = SVC(kernel = 'rbf', gamma = g, C = c)\n",
    "        # fit the object to the scaled training data:\n",
    "        classes.fit(scaled_data_train, labels_train)\n",
    "        # store the resulting accuracy score, gamma, and C to the appropriate array:\n",
    "        scores.append(classes.score(scaled_data_test,labels_test))\n",
    "        gees.append(g)\n",
    "        cees.append(c)\n",
    "        \n",
    "# I found the following to be very helpful to develop better intuition for the role of small vs. large\n",
    "# regularization parameters in SVM algorithms:\n",
    "# https://datascience.stackexchange.com/questions/4943/intuition-for-the-regularization-parameter-in-svm"
   ]
  },
  {
   "cell_type": "code",
   "execution_count": 13,
   "metadata": {},
   "outputs": [
    {
     "name": "stdout",
     "output_type": "stream",
     "text": [
      "253 0.26285714285714284\n",
      "14\n",
      "0.7\n"
     ]
    }
   ],
   "source": [
    "# print the highest accuracy score obtained by the above loop, and print the index of the scores list \n",
    "# where it was stored:\n",
    "print(scores.index(max(scores)), max(scores))\n",
    "print(gees[253])\n",
    "print(cees[253])"
   ]
  },
  {
   "cell_type": "code",
   "execution_count": 14,
   "metadata": {},
   "outputs": [],
   "source": [
    "# Use a single tree decision classification algorithm to predict game genre given year of release and sales data. \n",
    "\n",
    "# instantiate a class object, and give it a random state so that the same tree is generated each time the kernel\n",
    "# is run. The integer value fed to random_state is arbitrary.\n",
    "single_tree_all = DecisionTreeClassifier(random_state = 37)\n",
    "# fit the object to the training data:\n",
    "single_tree_all.fit(data_train, labels_train)\n",
    "# use the trained model to predict the classes (i.e. game genres) of data in the test set:\n",
    "single_tree_all_predictions = single_tree_all.predict(data_test)"
   ]
  },
  {
   "cell_type": "code",
   "execution_count": 15,
   "metadata": {},
   "outputs": [],
   "source": [
    "# Use a random forest classification algorithm to predict game genre given year of release and sales data. \n",
    "\n",
    "# instantiate a class object, and give it a random state so that the same tree is generated each time the kernel\n",
    "# is run. The integer value fed to random_state was chosen to be the same value fed to the single tree\n",
    "# decision classifier. Also, a fairly large number of estimators was chosen in an attempt to avoid overfitting.\n",
    "forest_all = RandomForestClassifier(n_estimators = 500, random_state = 37)\n",
    "# fit the object to the training data:\n",
    "forest_all.fit(data_train, labels_train)\n",
    "# use the trained model to predict the classes (i.e. game genres) of data in the test set:\n",
    "forest_all_predictions=forest_all.predict(data_test)"
   ]
  },
  {
   "cell_type": "code",
   "execution_count": 16,
   "metadata": {},
   "outputs": [
    {
     "name": "stdout",
     "output_type": "stream",
     "text": [
      "Single Tree Accuracy:  0.21183673469387754\n",
      "Random Forest Accuracy:  0.23673469387755103\n"
     ]
    }
   ],
   "source": [
    "# print the accuracy score of the single tree decision classifier:\n",
    "print('Single Tree Accuracy: ', single_tree_all.score(data_test,labels_test))\n",
    "# print the accuracy score of the random forest classifier:\n",
    "print('Random Forest Accuracy: ', forest_all.score(data_test,labels_test))"
   ]
  },
  {
   "cell_type": "code",
   "execution_count": null,
   "metadata": {},
   "outputs": [],
   "source": []
  }
 ],
 "metadata": {
  "kernelspec": {
   "display_name": "Python 3",
   "language": "python",
   "name": "python3"
  },
  "language_info": {
   "codemirror_mode": {
    "name": "ipython",
    "version": 3
   },
   "file_extension": ".py",
   "mimetype": "text/x-python",
   "name": "python",
   "nbconvert_exporter": "python",
   "pygments_lexer": "ipython3",
   "version": "3.8.3"
  }
 },
 "nbformat": 4,
 "nbformat_minor": 4
}
